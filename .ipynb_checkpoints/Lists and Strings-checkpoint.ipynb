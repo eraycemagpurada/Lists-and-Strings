{
 "cells": [
  {
   "cell_type": "markdown",
   "metadata": {},
   "source": [
    "## Lists and Strings"
   ]
  },
  {
   "cell_type": "code",
   "execution_count": 1,
   "metadata": {},
   "outputs": [
    {
     "name": "stdout",
     "output_type": "stream",
     "text": [
      "a\n",
      "n\n",
      "r\n",
      "e\n",
      "a\n",
      "e\n",
      "s\n"
     ]
    }
   ],
   "source": [
    "myList = [\"ana\", \"ben\", \"carli\", \"dee\", \"elaine\", \"fred\", \"gustas\"]\n",
    "\n",
    "for i in range(len(myList)):\n",
    "    print(myList[i][2]) #Second Index iterates through the first character of each element"
   ]
  },
  {
   "cell_type": "markdown",
   "metadata": {},
   "source": [
    "## List Exercises"
   ]
  },
  {
   "cell_type": "markdown",
   "metadata": {},
   "source": [
    "## 1) Print values with EVEN array index values"
   ]
  },
  {
   "cell_type": "code",
   "execution_count": 2,
   "metadata": {},
   "outputs": [
    {
     "name": "stdout",
     "output_type": "stream",
     "text": [
      "ana\n",
      "carli\n",
      "elaine\n",
      "gustas\n"
     ]
    }
   ],
   "source": [
    "for i in range(len(myList)):\n",
    "    if i % 2 == 0:\n",
    "        print(myList[i])"
   ]
  },
  {
   "cell_type": "markdown",
   "metadata": {},
   "source": [
    "## 2) Randomly pick one “box” and print its value\n"
   ]
  },
  {
   "cell_type": "code",
   "execution_count": 3,
   "metadata": {},
   "outputs": [
    {
     "name": "stdout",
     "output_type": "stream",
     "text": [
      "dee\n"
     ]
    }
   ],
   "source": [
    "import random\n",
    "print(myList[random.randrange(0,7)])"
   ]
  },
  {
   "cell_type": "markdown",
   "metadata": {},
   "source": [
    "## 3) Use a for loop backwards to print a list backwards\n",
    " "
   ]
  },
  {
   "cell_type": "code",
   "execution_count": 4,
   "metadata": {},
   "outputs": [
    {
     "name": "stdout",
     "output_type": "stream",
     "text": [
      "gustas\n",
      "fred\n",
      "elaine\n",
      "dee\n",
      "carli\n",
      "ben\n",
      "ana\n"
     ]
    }
   ],
   "source": [
    "for i in range(len(myList) -1, -1, -1): \n",
    "##First parameter minuses 1 from myLIst length T\n",
    "##Second parameter tells the the for loop to iterate until the value of i is -1\n",
    "##Third parameter tells the for loop to decrement by 1 instead of increment by 1\n",
    "    print(myList[i])"
   ]
  },
  {
   "cell_type": "markdown",
   "metadata": {},
   "source": [
    "## 4) Step through a list of word Print only the LAST letter of each word\n"
   ]
  },
  {
   "cell_type": "code",
   "execution_count": 5,
   "metadata": {},
   "outputs": [
    {
     "name": "stdout",
     "output_type": "stream",
     "text": [
      "a\n",
      "n\n",
      "i\n",
      "e\n",
      "e\n",
      "d\n",
      "s\n"
     ]
    }
   ],
   "source": [
    "for i in range(len(myList)):\n",
    "    print(myList[i][len(myList[i])-1])"
   ]
  },
  {
   "cell_type": "markdown",
   "metadata": {},
   "source": [
    "## 5) Step through a list of word Print a random letter of each word\n"
   ]
  },
  {
   "cell_type": "code",
   "execution_count": 6,
   "metadata": {},
   "outputs": [
    {
     "name": "stdout",
     "output_type": "stream",
     "text": [
      "a\n",
      "e\n",
      "l\n",
      "d\n",
      "l\n",
      "d\n",
      "a\n"
     ]
    }
   ],
   "source": [
    "for i in range(len(myList)):\n",
    "    print(myList[i][random.randrange(0, len(myList[i]))-1])"
   ]
  },
  {
   "cell_type": "markdown",
   "metadata": {},
   "source": [
    "## List Operations"
   ]
  },
  {
   "cell_type": "markdown",
   "metadata": {},
   "source": [
    "## len()\n",
    "len outputs the length of an array in terms of its elements"
   ]
  },
  {
   "cell_type": "code",
   "execution_count": 28,
   "metadata": {},
   "outputs": [
    {
     "name": "stdout",
     "output_type": "stream",
     "text": [
      "4\n"
     ]
    }
   ],
   "source": [
    "array = [1, 2, 3, 4]\n",
    "print(len(array))"
   ]
  },
  {
   "cell_type": "markdown",
   "metadata": {},
   "source": [
    "## append()\n",
    "append adds an element to the end of an array"
   ]
  },
  {
   "cell_type": "code",
   "execution_count": 29,
   "metadata": {},
   "outputs": [
    {
     "name": "stdout",
     "output_type": "stream",
     "text": [
      "[1, 2, 3, 4, 5]\n"
     ]
    }
   ],
   "source": [
    "array = [1, 2, 3, 4]\n",
    "array.append(5)\n",
    "print(array)"
   ]
  },
  {
   "cell_type": "markdown",
   "metadata": {},
   "source": [
    "## extend()\n",
    "extend appends the contents of one list onto another"
   ]
  },
  {
   "cell_type": "code",
   "execution_count": 30,
   "metadata": {},
   "outputs": [
    {
     "name": "stdout",
     "output_type": "stream",
     "text": [
      "[1, 2, 3, 4, 5, 6, 7, 8]\n"
     ]
    }
   ],
   "source": [
    "array = [1, 2, 3, 4]\n",
    "secondarray = [5, 6, 7, 8]\n",
    "array.extend(secondarray)\n",
    "print(array)"
   ]
  },
  {
   "cell_type": "markdown",
   "metadata": {},
   "source": [
    "## remove()\n",
    "remove removes the first instance of a specified element in an array"
   ]
  },
  {
   "cell_type": "code",
   "execution_count": 35,
   "metadata": {},
   "outputs": [
    {
     "name": "stdout",
     "output_type": "stream",
     "text": [
      "[2, 3, 4]\n"
     ]
    }
   ],
   "source": [
    "array = [1, 2, 3, 4]\n",
    "array.remove(1)\n",
    "print(array)"
   ]
  },
  {
   "cell_type": "markdown",
   "metadata": {},
   "source": [
    "## pop()\n",
    "pop removes and returns the specified element from an array"
   ]
  },
  {
   "cell_type": "code",
   "execution_count": 47,
   "metadata": {},
   "outputs": [
    {
     "name": "stdout",
     "output_type": "stream",
     "text": [
      "1 [2, 3, 4]\n"
     ]
    }
   ],
   "source": [
    "array = [1, 2, 3, 4]\n",
    "elem = array.pop(0)\n",
    "print(elem, array)"
   ]
  },
  {
   "cell_type": "markdown",
   "metadata": {},
   "source": [
    "## del\n",
    "del can be used to delete an element in an array by specifying its index value"
   ]
  },
  {
   "cell_type": "code",
   "execution_count": 57,
   "metadata": {},
   "outputs": [
    {
     "name": "stdout",
     "output_type": "stream",
     "text": [
      "[2, 3, 4]\n"
     ]
    }
   ],
   "source": [
    "array = [1, 2, 3, 4]\n",
    "del array[0]\n",
    "print(array)"
   ]
  },
  {
   "cell_type": "markdown",
   "metadata": {},
   "source": [
    "It can also be used to delete a range of elements, using a : operator\n",
    "\n",
    ": deletes the element specifed behind it, up to but not the element ahead of it"
   ]
  },
  {
   "cell_type": "code",
   "execution_count": 98,
   "metadata": {},
   "outputs": [
    {
     "name": "stdout",
     "output_type": "stream",
     "text": [
      "[7, 8]\n"
     ]
    }
   ],
   "source": [
    "array = [5, 6, 7, 8]\n",
    "del array[0:2]\n",
    "print(array)"
   ]
  },
  {
   "cell_type": "markdown",
   "metadata": {},
   "source": [
    "You can also delete entire variables"
   ]
  },
  {
   "cell_type": "code",
   "execution_count": 1,
   "metadata": {},
   "outputs": [
    {
     "ename": "NameError",
     "evalue": "name 'array' is not defined",
     "output_type": "error",
     "traceback": [
      "\u001b[0;31m---------------------------------------------------------------------------\u001b[0m",
      "\u001b[0;31mNameError\u001b[0m                                 Traceback (most recent call last)",
      "\u001b[0;32m<ipython-input-1-498917e32447>\u001b[0m in \u001b[0;36m<module>\u001b[0;34m()\u001b[0m\n\u001b[1;32m      1\u001b[0m \u001b[0marray\u001b[0m \u001b[0;34m=\u001b[0m \u001b[0;34m[\u001b[0m\u001b[0;36m1\u001b[0m\u001b[0;34m,\u001b[0m \u001b[0;36m2\u001b[0m\u001b[0;34m,\u001b[0m \u001b[0;36m3\u001b[0m\u001b[0;34m,\u001b[0m \u001b[0;36m4\u001b[0m\u001b[0;34m]\u001b[0m\u001b[0;34m\u001b[0m\u001b[0m\n\u001b[1;32m      2\u001b[0m \u001b[0;32mdel\u001b[0m \u001b[0marray\u001b[0m\u001b[0;34m\u001b[0m\u001b[0m\n\u001b[0;32m----> 3\u001b[0;31m \u001b[0mprint\u001b[0m\u001b[0;34m(\u001b[0m\u001b[0marray\u001b[0m\u001b[0;34m)\u001b[0m\u001b[0;34m\u001b[0m\u001b[0m\n\u001b[0m",
      "\u001b[0;31mNameError\u001b[0m: name 'array' is not defined"
     ]
    }
   ],
   "source": [
    "array = [1, 2, 3, 4]\n",
    "del array\n",
    "print(array)"
   ]
  },
  {
   "cell_type": "markdown",
   "metadata": {},
   "source": [
    "Calling the variable after this statement has been ran simply produces an error"
   ]
  },
  {
   "cell_type": "markdown",
   "metadata": {},
   "source": [
    "## insert()\n",
    "insert inserts a value as an element into the specified index of an array"
   ]
  },
  {
   "cell_type": "code",
   "execution_count": 104,
   "metadata": {},
   "outputs": [
    {
     "name": "stdout",
     "output_type": "stream",
     "text": [
      "[1, 2, 5, 3, 4]\n"
     ]
    }
   ],
   "source": [
    "array = [1, 2, 3, 4]\n",
    "array.insert(2, 5)\n",
    "print(array)"
   ]
  },
  {
   "cell_type": "markdown",
   "metadata": {},
   "source": [
    "## replace()\n",
    "Used in Strings, replaces a specified value within a string with another"
   ]
  },
  {
   "cell_type": "code",
   "execution_count": 106,
   "metadata": {},
   "outputs": [
    {
     "name": "stdout",
     "output_type": "stream",
     "text": [
      "fivetwothreefour\n"
     ]
    }
   ],
   "source": [
    "string = \"onetwothreefour\"\n",
    "string = string.replace(\"one\", \"five\")\n",
    "print(string)"
   ]
  },
  {
   "cell_type": "markdown",
   "metadata": {},
   "source": [
    "## index()\n",
    "Returns the the lowest index the specified value appears in"
   ]
  },
  {
   "cell_type": "code",
   "execution_count": 110,
   "metadata": {},
   "outputs": [
    {
     "name": "stdout",
     "output_type": "stream",
     "text": [
      "1\n"
     ]
    }
   ],
   "source": [
    "array = [1, 2, 3, 4]\n",
    "print(array.index(2))"
   ]
  },
  {
   "cell_type": "markdown",
   "metadata": {},
   "source": [
    "## in\n",
    "Tests for membership of a value within an object, returns True or False"
   ]
  },
  {
   "cell_type": "code",
   "execution_count": 20,
   "metadata": {},
   "outputs": [
    {
     "name": "stdout",
     "output_type": "stream",
     "text": [
      "True\n",
      "False\n"
     ]
    }
   ],
   "source": [
    "array = [1, 2, 3, 4]\n",
    "print(1 in array)\n",
    "print(5 in array)"
   ]
  },
  {
   "cell_type": "markdown",
   "metadata": {},
   "source": [
    "## find()\n",
    "Finds specified value within specified string, returns the index the value was found"
   ]
  },
  {
   "cell_type": "code",
   "execution_count": 23,
   "metadata": {},
   "outputs": [
    {
     "name": "stdout",
     "output_type": "stream",
     "text": [
      "3\n"
     ]
    }
   ],
   "source": [
    "string = \"onetwothreefour\"\n",
    "secondtring = \"two\"\n",
    "print(string.find(secondtring))"
   ]
  },
  {
   "cell_type": "markdown",
   "metadata": {},
   "source": [
    "## choice()\n",
    "Requires module Random. Returns a random value from a specified object."
   ]
  },
  {
   "cell_type": "code",
   "execution_count": 40,
   "metadata": {},
   "outputs": [
    {
     "name": "stdout",
     "output_type": "stream",
     "text": [
      "1\n",
      "3\n",
      "1\n",
      "4\n",
      "1\n"
     ]
    }
   ],
   "source": [
    "import random\n",
    "array = [1, 2, 3 ,4]\n",
    "for i in range (0, 5):\n",
    "    print(random.choice(array))"
   ]
  },
  {
   "cell_type": "markdown",
   "metadata": {},
   "source": [
    "## More List Exercises"
   ]
  },
  {
   "cell_type": "markdown",
   "metadata": {},
   "source": [
    "## 1) Add a 5 between the 20 and the 12\n"
   ]
  },
  {
   "cell_type": "code",
   "execution_count": 15,
   "metadata": {},
   "outputs": [
    {
     "name": "stdout",
     "output_type": "stream",
     "text": [
      "[16, 13, 12, 15, 14, 12, 11, 20, 5, 12, 19, 12, 12, 17, 12, 12]\n"
     ]
    }
   ],
   "source": [
    "temperature = [16, 13, 12, 15, 14, 12, 11, 20, 12, 19, 12, 12, 17, 12, 12]\n",
    "temperature.insert(8, 5)\n",
    "print(temperature)"
   ]
  },
  {
   "cell_type": "markdown",
   "metadata": {},
   "source": [
    "## 2) Add three 7s to the end of the list\n"
   ]
  },
  {
   "cell_type": "code",
   "execution_count": 21,
   "metadata": {},
   "outputs": [
    {
     "name": "stdout",
     "output_type": "stream",
     "text": [
      "[16, 13, 12, 15, 14, 12, 11, 20, 12, 19, 12, 12, 17, 12, 12, 7, 7, 7]\n"
     ]
    }
   ],
   "source": [
    "temperature = [16, 13, 12, 15, 14, 12, 11, 20, 12, 19, 12, 12, 17, 12, 12]\n",
    "for i in range(0, 3):\n",
    "    temperature.append(7)\n",
    "print(temperature)"
   ]
  },
  {
   "cell_type": "markdown",
   "metadata": {},
   "source": [
    "## 3) Take out the 11"
   ]
  },
  {
   "cell_type": "code",
   "execution_count": 26,
   "metadata": {},
   "outputs": [
    {
     "name": "stdout",
     "output_type": "stream",
     "text": [
      "[16, 13, 12, 15, 14, 12, 20, 12, 19, 12, 12, 17, 12, 12]\n"
     ]
    }
   ],
   "source": [
    "temperature = [16, 13, 12, 15, 14, 12, 11, 20, 12, 19, 12, 12, 17, 12, 12]\n",
    "temperature.remove(11)\n",
    "print(temperature)"
   ]
  },
  {
   "cell_type": "markdown",
   "metadata": {},
   "source": [
    "## 4) Swap the 16 with the 17"
   ]
  },
  {
   "cell_type": "code",
   "execution_count": 1,
   "metadata": {},
   "outputs": [
    {
     "name": "stdout",
     "output_type": "stream",
     "text": [
      "[5, 13, 12, 15, 14, 12, 11, 20, 12, 19, 12, 12, 17, 12, 12]\n"
     ]
    }
   ],
   "source": [
    "temperature = [16, 13, 12, 15, 14, 12, 11, 20, 12, 19, 12, 12, 17, 12, 12]\n",
    "temperature.remove(16)\n",
    "temperature.insert(0, 5)\n",
    "print(temperature)"
   ]
  },
  {
   "cell_type": "markdown",
   "metadata": {},
   "source": [
    "## String Exercises"
   ]
  },
  {
   "cell_type": "markdown",
   "metadata": {},
   "source": [
    "## 1) Chooses a random letter in the alphabet"
   ]
  },
  {
   "cell_type": "code",
   "execution_count": 3,
   "metadata": {},
   "outputs": [
    {
     "name": "stdout",
     "output_type": "stream",
     "text": [
      "B\n"
     ]
    }
   ],
   "source": [
    "import string\n",
    "import random\n",
    "\n",
    "alphabet = string.ascii_uppercase\n",
    "print(random.choice(alphabet))"
   ]
  },
  {
   "cell_type": "markdown",
   "metadata": {},
   "source": [
    "## 2) Counts the frequency of that random letter in the word"
   ]
  },
  {
   "cell_type": "code",
   "execution_count": 4,
   "metadata": {},
   "outputs": [
    {
     "name": "stdout",
     "output_type": "stream",
     "text": [
      "S\n",
      "3\n"
     ]
    }
   ],
   "source": [
    "alphabet = string.ascii_uppercase\n",
    "random_letter = random.choice(alphabet)\n",
    "print(random_letter)\n",
    "word = \"PSEUDOPSEUDOHYPOPARATHYROIDISM\"\n",
    "print(word.count(random_letter))"
   ]
  },
  {
   "cell_type": "markdown",
   "metadata": {},
   "source": [
    "## 3) The program should either tell the user that that random letter was not in the work or print the letter and its frequency\n"
   ]
  },
  {
   "cell_type": "code",
   "execution_count": 6,
   "metadata": {},
   "outputs": [
    {
     "name": "stdout",
     "output_type": "stream",
     "text": [
      "H appears 2 times in the word\n"
     ]
    }
   ],
   "source": [
    "alphabet = string.ascii_uppercase\n",
    "random_letter = random.choice(alphabet)\n",
    "word = \"PSEUDOPSEUDOHYPOPARATHYROIDISM\"\n",
    "\n",
    "if word.count(random_letter) == 0:\n",
    "    print(random_letter, \"was not in the word\")\n",
    "else:\n",
    "    print(random_letter, \"appears\", word.count(random_letter), \"times in the word\")"
   ]
  },
  {
   "cell_type": "markdown",
   "metadata": {},
   "source": [
    "## Strong password Exercise\n",
    "1) Each I in the word is replaced with a 1\n",
    "\n",
    "2) Each S in the word is replaced with a 5\n",
    "\n",
    "3) The length of the word is appended to the end of the password."
   ]
  },
  {
   "cell_type": "code",
   "execution_count": 1,
   "metadata": {},
   "outputs": [
    {
     "name": "stdout",
     "output_type": "stream",
     "text": [
      "test\n",
      "te5t4\n"
     ]
    }
   ],
   "source": [
    "pwd = \"\"\n",
    "pwd = input(pwd)\n",
    "pwd = pwd.replace(\"i\", \"1\")\n",
    "pwd = pwd.replace(\"s\", \"5\")\n",
    "pwd = pwd + str(len(pwd))\n",
    "print(pwd)"
   ]
  },
  {
   "cell_type": "markdown",
   "metadata": {},
   "source": [
    "## Slicing Lists"
   ]
  },
  {
   "cell_type": "code",
   "execution_count": 17,
   "metadata": {},
   "outputs": [
    {
     "name": "stdout",
     "output_type": "stream",
     "text": [
      "['ana', 'ben', 'carli', 'dee', 'elaine', 'fred', 'gustas']\n",
      "['ana', 'ben', 'carli', 'dee', 'elaine', 'fred', 'gustas']\n",
      "['ben', 'carli', 'dee', 'elaine']\n",
      "['ana', 'ben', 'carli', 'dee', 'elaine', 'fred', 'gustas']\n",
      "[]\n",
      "['elaine']\n",
      "['gustas', 'fred', 'elaine', 'dee', 'carli', 'ben']\n",
      "['gustas', 'fred', 'elaine', 'dee', 'carli', 'ben', 'ana']\n"
     ]
    }
   ],
   "source": [
    "myList = ['ana', 'ben', 'carli', 'dee', 'elaine', 'fred', 'gustas']\n",
    "print(myList[0:7])\n",
    "print(myList[0:len(myList)])\n",
    "print(myList[1:5])\n",
    "print(myList[:])\n",
    "print(myList[4:2])\n",
    "print(myList[4:-2])\n",
    "print(myList[len(myList):0:-1])\n",
    "print(myList[len(myList)::-1])"
   ]
  },
  {
   "cell_type": "markdown",
   "metadata": {},
   "source": [
    "## Slicing Lists Exercise \n",
    "1) A list of surnames (and print them)\n",
    "\n",
    "2) A list of first names (and print them)"
   ]
  },
  {
   "cell_type": "code",
   "execution_count": 21,
   "metadata": {},
   "outputs": [
    {
     "name": "stdout",
     "output_type": "stream",
     "text": [
      "['ana', 'ben', 'carli', 'daniel', 'elaine', 'fred', 'george']\n",
      "['herrera', 'ainslie', 'simon', 'defoe', 'williams', 'jones', 'gershwin']\n"
     ]
    }
   ],
   "source": [
    "myList = ['ana,herrera', 'ben,ainslie', 'carli,simon', 'daniel,defoe', 'elaine,williams', 'fred,jones', 'george,gershwin,']\n",
    "surnamesList = []\n",
    "firstnamesList = []\n",
    "for i in range(0, len(myList)):\n",
    "    word = myList[i].split(\",\")\n",
    "    firstnamesList.append(word[0])\n",
    "    surnamesList.append(word[1])\n",
    "print(firstnamesList)\n",
    "print(surnamesList)"
   ]
  }
 ],
 "metadata": {
  "kernelspec": {
   "display_name": "Python 3",
   "language": "python",
   "name": "python3"
  },
  "language_info": {
   "codemirror_mode": {
    "name": "ipython",
    "version": 3
   },
   "file_extension": ".py",
   "mimetype": "text/x-python",
   "name": "python",
   "nbconvert_exporter": "python",
   "pygments_lexer": "ipython3",
   "version": "3.5.2"
  }
 },
 "nbformat": 4,
 "nbformat_minor": 2
}
